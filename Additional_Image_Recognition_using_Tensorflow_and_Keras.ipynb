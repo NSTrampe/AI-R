{
  "nbformat": 4,
  "nbformat_minor": 0,
  "metadata": {
    "colab": {
      "name": "Additional: Image Recognition using Tensorflow and Keras.ipynb",
      "provenance": []
    },
    "kernelspec": {
      "name": "python3",
      "display_name": "Python 3"
    }
  },
  "cells": [
    {
      "cell_type": "markdown",
      "metadata": {
        "id": "MUxJKLh9SG3S"
      },
      "source": [
        "#### 1.0 Importing data and relevant libraies:"
      ]
    },
    {
      "cell_type": "code",
      "metadata": {
        "id": "qtKSJazueaL1"
      },
      "source": [
        "##Pre processing libs:\n",
        "import os\n",
        "import zipfile\n",
        "import numpy as np\n",
        "import pandas as pd\n",
        "from PIL import Image\n",
        "from keras.preprocessing import image\n",
        "from tqdm import tqdm\n",
        "import cv2\n",
        "import matplotlib.pyplot as plt\n",
        "import random\n",
        "from sklearn.model_selection import train_test_split\n",
        "\n",
        "##Modelling libs:\n",
        "from collections import Counter\n",
        "from sklearn.neural_network import MLPClassifier\n",
        "from sklearn.model_selection import GridSearchCV\n",
        "import time\n",
        "from sklearn.metrics import classification_report,multilabel_confusion_matrix\n",
        "from sklearn.ensemble import RandomForestClassifier\n",
        "from sklearn.metrics import accuracy_score\n",
        "\n",
        "\"\"\"Defining function for downloading data into current session. \n",
        "Go to Kaggle > Account > Get API token, if token not stated.\"\"\"\n",
        "\n",
        "def getdata(APItoken):\n",
        "  os.environ['KAGGLE_USERNAME'] = \"nikolajtrampedach\"\n",
        "  os.environ['KAGGLE_KEY'] = APItoken\n",
        "  try:\n",
        "    !kaggle datasets download -d meowmeowmeowmeowmeow/gtsrb-german-traffic-sign\n",
        "    !unzip gtsrb-german-traffic-sign.zip\n",
        "    print('********** Downloading and unzipping completed **********')\n",
        "  except: \n",
        "    print('************ An error occured while loading ************')"
      ],
      "execution_count": 1,
      "outputs": []
    },
    {
      "cell_type": "code",
      "metadata": {
        "id": "xuZFYOTcF85E"
      },
      "source": [
        "# Downloading data with the Kaggle API token\n",
        "getdata('***INSERT YOUR OWN APITOKEN***')"
      ],
      "execution_count": null,
      "outputs": []
    },
    {
      "cell_type": "markdown",
      "metadata": {
        "id": "qfKxJrDy8ryV"
      },
      "source": [
        "#### 2.0 Data Processing\n"
      ]
    },
    {
      "cell_type": "code",
      "metadata": {
        "id": "AwpDmRKDwNcW"
      },
      "source": [
        "#Defining lable names:\n",
        "ClassDict = { 0:'Speed limit (20km/h)',\n",
        "            1:'Speed limit (30km/h)', \n",
        "            2:'Speed limit (50km/h)', \n",
        "            3:'Speed limit (60km/h)', \n",
        "            4:'Speed limit (70km/h)', \n",
        "            5:'Speed limit (80km/h)', \n",
        "            6:'End of speed limit (80km/h)', \n",
        "            7:'Speed limit (100km/h)', \n",
        "            8:'Speed limit (120km/h)', \n",
        "            9:'No passing', \n",
        "            10:'No passing veh over 3.5 tons', \n",
        "            11:'Right-of-way at intersection', \n",
        "            12:'Priority road', \n",
        "            13:'Yield', \n",
        "            14:'Stop', \n",
        "            15:'No vehicles', \n",
        "            16:'Veh > 3.5 tons prohibited', \n",
        "            17:'No entry', \n",
        "            18:'General caution', \n",
        "            19:'Dangerous curve left', \n",
        "            20:'Dangerous curve right', \n",
        "            21:'Double curve', \n",
        "            22:'Bumpy road', \n",
        "            23:'Slippery road', \n",
        "            24:'Road narrows on the right', \n",
        "            25:'Road work', \n",
        "            26:'Traffic signals', \n",
        "            27:'Pedestrians', \n",
        "            28:'Children crossing', \n",
        "            29:'Bicycles crossing', \n",
        "            30:'Beware of ice/snow',\n",
        "            31:'Wild animals crossing', \n",
        "            32:'End speed + passing limits', \n",
        "            33:'Turn right ahead', \n",
        "            34:'Turn left ahead', \n",
        "            35:'Ahead only', \n",
        "            36:'Go straight or right', \n",
        "            37:'Go straight or left', \n",
        "            38:'Keep right', \n",
        "            39:'Keep left', \n",
        "            40:'Roundabout mandatory', \n",
        "            41:'End of no passing', \n",
        "            42:'End no passing veh > 3.5 tons' }"
      ],
      "execution_count": 3,
      "outputs": []
    },
    {
      "cell_type": "code",
      "metadata": {
        "id": "Hbb4ffVc57CB"
      },
      "source": [
        "#Only needed if we want to reduce the total number of classes to speed limit signs\n",
        "\n",
        "#train = train[(train['ClassId'] <= 8)] \n",
        "#test = test[(test['ClassId'] <= 8)]"
      ],
      "execution_count": 4,
      "outputs": []
    },
    {
      "cell_type": "code",
      "metadata": {
        "colab": {
          "base_uri": "https://localhost:8080/"
        },
        "id": "00OoeiBWJgxW",
        "outputId": "ad9748c4-d668-495b-85c8-7ddd7d708c17"
      },
      "source": [
        "#First, we investigate the average image size prior to resizing the images.\n",
        "train = pd.read_csv('Train.csv')\n",
        "test = pd.read_csv('Test.csv')\n",
        "\n",
        "print('The average train width of images is: {}'.format(train['Width'].mean()))\n",
        "print('The average train height of images is: {}\\n'.format(train['Height'].mean()))\n",
        "\n",
        "print('The average test width of images is: {}'.format(test['Width'].mean()))\n",
        "print('The average test height of images is: {}'.format(test['Height'].mean()))"
      ],
      "execution_count": 5,
      "outputs": [
        {
          "output_type": "stream",
          "text": [
            "The average train width of images is: 50.83587951745773\n",
            "The average train height of images is: 50.328929582493814\n",
            "\n",
            "The average test width of images is: 50.50775930324624\n",
            "The average test height of images is: 50.36444972288203\n"
          ],
          "name": "stdout"
        }
      ]
    },
    {
      "cell_type": "code",
      "metadata": {
        "id": "3y--dJetXcJh"
      },
      "source": [
        "#Mapping all class instances with the respectfully name in Classdict\n",
        "\n",
        "train[\"class_nm\"] = train[\"ClassId\"].map(ClassDict)\n",
        "test[\"class_nm\"] = test[\"ClassId\"].map(ClassDict)"
      ],
      "execution_count": 6,
      "outputs": []
    },
    {
      "cell_type": "code",
      "metadata": {
        "colab": {
          "base_uri": "https://localhost:8080/",
          "height": 319
        },
        "id": "_vXCe3t1JpuQ",
        "outputId": "3aac0c75-6de3-48d1-8cfc-460032dad822"
      },
      "source": [
        "#plotting an visual example of the four stages in the image processing\n",
        "\n",
        "random_int = random.randint(1,31367)\n",
        "step = 1\n",
        "\n",
        "#img_org = image.load_img(train['Path'][random_int],target_size=(49,49,4), interpolation = True)\n",
        "img_org = cv2.imread((train['Path'][random_int]),-1)\n",
        "img = cv2.resize(img_org, (30,30))\n",
        "#img = image.img_to_array(img_org)\n",
        "img_blur = cv2.GaussianBlur(img, (49, 49), 0.01).astype('uint8')\n",
        "img_gray = cv2.cvtColor(img_blur, cv2.COLOR_RGB2GRAY)#imshow do not work with RGB2GRAY, so this is only needed to plot grayscale img.\n",
        "img_thresh_Gaussian = cv2.adaptiveThreshold(img_gray, 255, cv2.ADAPTIVE_THRESH_GAUSSIAN_C, cv2.THRESH_BINARY, 11, 3)\n",
        "\n",
        "print('Test reference: {}'.format(random_int))\n",
        "print('Class name: {}\\n'.format(train[\"class_nm\"][random_int]))\n",
        "\n",
        "titles = ['1: Original Image', '2: Gaussian Blur', \n",
        "          '3: Grayscale', '4: Adaptive Gaussian Threshold']\n",
        "image_list = (img_org,img_blur,img_gray,img_thresh_Gaussian)\n",
        "\n",
        "for i in range(4):\n",
        "    plt.subplot(2,2,i+1),plt.imshow(image_list[i])\n",
        "    plt.title(titles[i])\n",
        "    plt.xticks([]),plt.yticks([])\n",
        "plt.show()"
      ],
      "execution_count": 7,
      "outputs": [
        {
          "output_type": "stream",
          "text": [
            "Test reference: 11901\n",
            "Class name: Speed limit (100km/h)\n",
            "\n"
          ],
          "name": "stdout"
        },
        {
          "output_type": "display_data",
          "data": {
            "image/png": "[encoded data removed]",
            "text/plain": [
              "<Figure size 432x288 with 4 Axes>"
            ]
          },
          "metadata": {
            "tags": []
          }
        }
      ]
    },
    {
      "cell_type": "markdown",
      "metadata": {
        "id": "RZEqFcHbMlJM"
      },
      "source": [
        "##### Function not working -- do not return assigned results"
      ]
    },
    {
      "cell_type": "markdown",
      "metadata": {
        "id": "SjTC1rqSMqlH"
      },
      "source": [
        "#####   "
      ]
    },
    {
      "cell_type": "code",
      "metadata": {
        "id": "SJyN9FFpIase",
        "colab": {
          "base_uri": "https://localhost:8080/"
        },
        "outputId": "60078a99-2929-472f-cf80-e9b44413573d"
      },
      "source": [
        "#Building training data\n",
        "data_list = []\n",
        "for i in tqdm(range(train.shape[0])):\n",
        "  img_org = cv2.imread(train['Path'][i],-1)\n",
        "  img = cv2.resize(img_org, (30,30))\n",
        "  #img_blur = cv2.GaussianBlur(img, (49, 49), 0.01).astype('uint8')\n",
        "  #img_gray = cv2.cvtColor(img_blur, cv2.COLOR_RGB2GRAY)#imshow do not work with RGB2GRAY, so this is only needed to plot grayscale img.\n",
        "  #img_thresh_Gaussian = cv2.adaptiveThreshold(img_gray, 255, cv2.ADAPTIVE_THRESH_GAUSSIAN_C, cv2.THRESH_BINARY, 11, 3)\n",
        "  data_list.append(img) #Appending each image to data_list\n",
        "X = np.array(data_list) #/ 255.00 #Scaling pizels from range(0-255) to range (0.0-1.0)\n",
        "y = np.array(train['ClassId'])\n"
      ],
      "execution_count": 9,
      "outputs": [
        {
          "output_type": "stream",
          "text": [
            "100%|██████████| 39209/39209 [00:07<00:00, 5484.13it/s]\n"
          ],
          "name": "stderr"
        }
      ]
    },
    {
      "cell_type": "code",
      "metadata": {
        "id": "wMo56ix_I0F9",
        "colab": {
          "base_uri": "https://localhost:8080/"
        },
        "outputId": "20810a92-c87a-4ae2-8ef2-9016a603d1d4"
      },
      "source": [
        "#Building test data\n",
        "data_list = []\n",
        "for i in tqdm(range(test.shape[0])):\n",
        "  img_org = cv2.imread(test['Path'][i],-1)\n",
        "  img = cv2.resize(img_org, (30,30))\n",
        "  #img_blur = cv2.GaussianBlur(img, (49, 49), 0.01).astype('uint8')\n",
        "  #img_gray = cv2.cvtColor(img_blur, cv2.COLOR_RGB2GRAY)#imshow do not work with RGB2GRAY, so this is only needed to plot grayscale img.\n",
        "  #img_thresh_Gaussian = cv2.adaptiveThreshold(img_gray, 255, cv2.ADAPTIVE_THRESH_GAUSSIAN_C, cv2.THRESH_BINARY, 11, 3)\n",
        "  data_list.append(img) #Appending each image to data_list        \n",
        "X_test = np.array(data_list) #/ 255.00 #Scaling pizels from range(0-255) to range (0.0-1.0)\n",
        "y_test = np.array(test['ClassId'])"
      ],
      "execution_count": 10,
      "outputs": [
        {
          "output_type": "stream",
          "text": [
            "100%|██████████| 12630/12630 [00:02<00:00, 5371.89it/s]\n"
          ],
          "name": "stderr"
        }
      ]
    },
    {
      "cell_type": "code",
      "metadata": {
        "id": "1SxmfHftuoSd",
        "colab": {
          "base_uri": "https://localhost:8080/"
        },
        "outputId": "0289d897-fa5e-4061-bff4-7f689f74a1de"
      },
      "source": [
        "\"\"\"In order to have a validation dataset, we split the X and y derived from the train folder in to train and validation\n",
        "Hence, the image dir folder is ordered, we include shuffle = True in the train_test_split to ensure all classes are represented \"\"\"\n",
        "\n",
        "X_train, X_val, y_train, y_val = train_test_split(X, y, test_size=0.20, stratify=y, shuffle = True, random_state=1)\n",
        "\n",
        "instances = X_train.shape[0]+X_val.shape[0]+X_test.shape[0]\n",
        "\n",
        "print('Total instances of data available: {}\\n'.format(instances))\n",
        "print('Shape of X_train: {}  -  {:.1f} pct.'.format(X_train.shape,X_train.shape[0]/instances*100))\n",
        "print('Shape of X_val:   {}   -  {:.1f} pct.'.format(X_val.shape,X_val.shape[0]/instances*100))\n",
        "print('Shape of X_test:  {}  -  {:.1f} pct.'.format(X_test.shape,X_test.shape[0]/instances*100))"
      ],
      "execution_count": 11,
      "outputs": [
        {
          "output_type": "stream",
          "text": [
            "Total instances of data available: 51839\n",
            "\n",
            "Shape of X_train: (31367, 30, 30, 3)  -  60.5 pct.\n",
            "Shape of X_val:   (7842, 30, 30, 3)   -  15.1 pct.\n",
            "Shape of X_test:  (12630, 30, 30, 3)  -  24.4 pct.\n"
          ],
          "name": "stdout"
        }
      ]
    },
    {
      "cell_type": "code",
      "metadata": {
        "id": "L3naIlFZ0piv"
      },
      "source": [
        "from keras.utils import to_categorical\n",
        "\n",
        "y_train = to_categorical(y_train, 43)\n",
        "y_val = to_categorical(y_val, 43)\n",
        "y_test = to_categorical(y_test, 43)"
      ],
      "execution_count": 12,
      "outputs": []
    },
    {
      "cell_type": "markdown",
      "metadata": {
        "id": "HYCrXmtY8z4t"
      },
      "source": [
        "#### 3.0 Data Exploration"
      ]
    },
    {
      "cell_type": "code",
      "metadata": {
        "id": "34ybvNGPhAgl",
        "colab": {
          "base_uri": "https://localhost:8080/",
          "height": 0
        },
        "outputId": "01bd7375-c2c1-4b01-cf6b-8a9b7924fff9"
      },
      "source": [
        "#Plotting 10 random images\n",
        "fig, axs = plt.subplots(figsize=(15, 15))\n",
        "for i in range(0,10):\n",
        "  random_int = random.randint(1,31367)\n",
        "  plt.subplot(2,5,i+1),plt.imshow(X_train[random_int])\n",
        "  #plt.title(y_train[random_int])\n",
        "  plt.xticks([]),plt.yticks([])\n",
        "plt.show()"
      ],
      "execution_count": 13,
      "outputs": [
        {
          "output_type": "display_data",
          "data": {
            "image/png": "[encoded data removed]",
            "text/plain": [
              "<Figure size 1080x1080 with 10 Axes>"
            ]
          },
          "metadata": {
            "tags": []
          }
        }
      ]
    },
    {
      "cell_type": "markdown",
      "metadata": {
        "id": "unQYUlFlSSmn"
      },
      "source": [
        "#### 4.0 Modelling"
      ]
    },
    {
      "cell_type": "code",
      "metadata": {
        "id": "V6Hq49-V20JX"
      },
      "source": [
        "import numpy as np\n",
        "import pandas as pd\n",
        "import matplotlib.pyplot as plt\n",
        "import seaborn as sns\n",
        "import os\n",
        "import cv2\n",
        "\n",
        "import warnings\n",
        "warnings.filterwarnings('ignore')\n",
        "\n",
        "from PIL import Image\n",
        "import tensorflow as tf\n",
        "\n",
        "from sklearn.model_selection import train_test_split\n",
        "from skimage.transform import resize\n",
        "from sklearn.metrics import accuracy_score\n",
        "\n",
        "from keras.utils import to_categorical\n",
        "from keras.models import Sequential\n",
        "from keras.layers import Conv2D, MaxPool2D, Dense, Flatten, Dropout"
      ],
      "execution_count": 15,
      "outputs": []
    },
    {
      "cell_type": "code",
      "metadata": {
        "id": "1RglpxvN2ykT"
      },
      "source": [
        "model = Sequential()\n",
        "model.add(Conv2D(filters = 32, kernel_size = (5,5), activation ='relu', input_shape = (30,30,3)))\n",
        "model.add(Conv2D(filters = 32, kernel_size = (5,5), activation = 'relu'))\n",
        "model.add(MaxPool2D(pool_size = (2,2)))\n",
        "model.add(Dropout(rate = 0.25))\n",
        "\n",
        "model.add(Conv2D(filters = 64, kernel_size = (3,3), activation ='relu'))\n",
        "model.add(Conv2D(filters = 64, kernel_size = (3,3), activation ='relu'))\n",
        "model.add(MaxPool2D(pool_size = (2,2)))\n",
        "model.add(Dropout(rate = 0.25))\n",
        "\n",
        "model.add(Flatten())\n",
        "model.add(Dense(256, activation = 'relu'))\n",
        "model.add(Dropout(rate = 0.5))\n",
        "model.add(Dense(43, activation= 'softmax'))\n",
        "\n",
        "# model compilation\n",
        "model.compile(loss = 'categorical_crossentropy', optimizer ='adam', metrics =['accuracy'])"
      ],
      "execution_count": 16,
      "outputs": []
    },
    {
      "cell_type": "code",
      "metadata": {
        "id": "Qg5unT1x25_v",
        "colab": {
          "base_uri": "https://localhost:8080/"
        },
        "outputId": "193551ba-fe3a-47b1-fa46-ae51a3ecba94"
      },
      "source": [
        "model.summary()"
      ],
      "execution_count": 17,
      "outputs": [
        {
          "output_type": "stream",
          "text": [
            "Model: \"sequential\"\n",
            "_________________________________________________________________\n",
            "Layer (type)                 Output Shape              Param #   \n",
            "=================================================================\n",
            "conv2d (Conv2D)              (None, 26, 26, 32)        2432      \n",
            "_________________________________________________________________\n",
            "conv2d_1 (Conv2D)            (None, 22, 22, 32)        25632     \n",
            "_________________________________________________________________\n",
            "max_pooling2d (MaxPooling2D) (None, 11, 11, 32)        0         \n",
            "_________________________________________________________________\n",
            "dropout (Dropout)            (None, 11, 11, 32)        0         \n",
            "_________________________________________________________________\n",
            "conv2d_2 (Conv2D)            (None, 9, 9, 64)          18496     \n",
            "_________________________________________________________________\n",
            "conv2d_3 (Conv2D)            (None, 7, 7, 64)          36928     \n",
            "_________________________________________________________________\n",
            "max_pooling2d_1 (MaxPooling2 (None, 3, 3, 64)          0         \n",
            "_________________________________________________________________\n",
            "dropout_1 (Dropout)          (None, 3, 3, 64)          0         \n",
            "_________________________________________________________________\n",
            "flatten (Flatten)            (None, 576)               0         \n",
            "_________________________________________________________________\n",
            "dense (Dense)                (None, 256)               147712    \n",
            "_________________________________________________________________\n",
            "dropout_2 (Dropout)          (None, 256)               0         \n",
            "_________________________________________________________________\n",
            "dense_1 (Dense)              (None, 43)                11051     \n",
            "=================================================================\n",
            "Total params: 242,251\n",
            "Trainable params: 242,251\n",
            "Non-trainable params: 0\n",
            "_________________________________________________________________\n"
          ],
          "name": "stdout"
        }
      ]
    },
    {
      "cell_type": "code",
      "metadata": {
        "id": "roJ4RaAu29mv",
        "colab": {
          "base_uri": "https://localhost:8080/"
        },
        "outputId": "0b238cee-fcd9-485f-ec0d-3ad53ef672c7"
      },
      "source": [
        "epochs = 15\n",
        "history = model.fit(X_train, y_train, \n",
        "                   batch_size=64,\n",
        "                   epochs=epochs,\n",
        "                   validation_data=(X_val, y_val))"
      ],
      "execution_count": 18,
      "outputs": [
        {
          "output_type": "stream",
          "text": [
            "Epoch 1/15\n",
            "491/491 [==============================] - 125s 253ms/step - loss: 4.0634 - accuracy: 0.2217 - val_loss: 0.8340 - val_accuracy: 0.7716\n",
            "Epoch 2/15\n",
            "491/491 [==============================] - 123s 250ms/step - loss: 1.1283 - accuracy: 0.6688 - val_loss: 0.4950 - val_accuracy: 0.8893\n",
            "Epoch 3/15\n",
            "491/491 [==============================] - 125s 255ms/step - loss: 0.7749 - accuracy: 0.7703 - val_loss: 0.4083 - val_accuracy: 0.8713\n",
            "Epoch 4/15\n",
            "491/491 [==============================] - 122s 249ms/step - loss: 0.6875 - accuracy: 0.7965 - val_loss: 0.2135 - val_accuracy: 0.9382\n",
            "Epoch 5/15\n",
            "491/491 [==============================] - 122s 248ms/step - loss: 0.5638 - accuracy: 0.8283 - val_loss: 0.1592 - val_accuracy: 0.9528\n",
            "Epoch 6/15\n",
            "491/491 [==============================] - 123s 250ms/step - loss: 0.4886 - accuracy: 0.8527 - val_loss: 0.1401 - val_accuracy: 0.9580\n",
            "Epoch 7/15\n",
            "491/491 [==============================] - 122s 249ms/step - loss: 0.3502 - accuracy: 0.8919 - val_loss: 0.1901 - val_accuracy: 0.9458\n",
            "Epoch 8/15\n",
            "491/491 [==============================] - 125s 255ms/step - loss: 0.3098 - accuracy: 0.9070 - val_loss: 0.1304 - val_accuracy: 0.9610\n",
            "Epoch 9/15\n",
            "491/491 [==============================] - 122s 248ms/step - loss: 0.2772 - accuracy: 0.9156 - val_loss: 0.1095 - val_accuracy: 0.9681\n",
            "Epoch 10/15\n",
            "491/491 [==============================] - 122s 248ms/step - loss: 0.2716 - accuracy: 0.9189 - val_loss: 0.1428 - val_accuracy: 0.9582\n",
            "Epoch 11/15\n",
            "491/491 [==============================] - 122s 249ms/step - loss: 0.2547 - accuracy: 0.9244 - val_loss: 0.0946 - val_accuracy: 0.9705\n",
            "Epoch 12/15\n",
            "491/491 [==============================] - 122s 248ms/step - loss: 0.2472 - accuracy: 0.9275 - val_loss: 0.0848 - val_accuracy: 0.9755\n",
            "Epoch 13/15\n",
            "491/491 [==============================] - 122s 249ms/step - loss: 0.1992 - accuracy: 0.9390 - val_loss: 0.0712 - val_accuracy: 0.9784\n",
            "Epoch 14/15\n",
            "491/491 [==============================] - 123s 250ms/step - loss: 0.1991 - accuracy: 0.9401 - val_loss: 0.0642 - val_accuracy: 0.9834\n",
            "Epoch 15/15\n",
            "491/491 [==============================] - 122s 249ms/step - loss: 0.1884 - accuracy: 0.9431 - val_loss: 0.0582 - val_accuracy: 0.9843\n"
          ],
          "name": "stdout"
        }
      ]
    },
    {
      "cell_type": "code",
      "metadata": {
        "id": "WU22N8ja3Gjz",
        "colab": {
          "base_uri": "https://localhost:8080/",
          "height": 312
        },
        "outputId": "565520dd-3585-4ced-a572-c84b36b46686"
      },
      "source": [
        "plt.figure(0)\n",
        "plt.plot(history.history['accuracy'], label= 'train accuracy')\n",
        "plt.plot(history.history['val_accuracy'], label= 'val accuracy')\n",
        "plt.title('Accuracy')\n",
        "plt.xlabel('epochs')\n",
        "plt.ylabel('Accuracy')\n",
        "plt.legend()"
      ],
      "execution_count": 19,
      "outputs": [
        {
          "output_type": "execute_result",
          "data": {
            "text/plain": [
              "<matplotlib.legend.Legend at 0x7f6674e25110>"
            ]
          },
          "metadata": {
            "tags": []
          },
          "execution_count": 19
        },
        {
          "output_type": "display_data",
          "data": {
            "image/png": "[encoded data removed]",
            "text/plain": [
              "<Figure size 432x288 with 1 Axes>"
            ]
          },
          "metadata": {
            "tags": [],
            "needs_background": "light"
          }
        }
      ]
    },
    {
      "cell_type": "code",
      "metadata": {
        "id": "DdvFMjra9-Dy",
        "colab": {
          "base_uri": "https://localhost:8080/",
          "height": 334
        },
        "outputId": "17f69666-151f-4001-da8c-b1f5100414ae"
      },
      "source": [
        "random_int = random.randint(1,12630)\n",
        "plt.imshow(X_test[random_int])\n",
        "\n",
        "predictions = model.predict(np.expand_dims(X_test[random_int], axis=0))\n",
        "classes = np.argmax(predictions)\n",
        "print('Test reference: {}\\n'.format(random_int))\n",
        "print('Prediction class: {}'.format(classes))\n",
        "print('Actual: {}'.format(list(ClassDict.values())[list(ClassDict.keys()).index(classes)]))"
      ],
      "execution_count": 20,
      "outputs": [
        {
          "output_type": "stream",
          "text": [
            "Test reference: 4653\n",
            "\n",
            "Prediction class: 8\n",
            "Actual: Speed limit (120km/h)\n"
          ],
          "name": "stdout"
        },
        {
          "output_type": "display_data",
          "data": {
            "image/png": "[encoded data removed]",
            "text/plain": [
              "<Figure size 432x288 with 1 Axes>"
            ]
          },
          "metadata": {
            "tags": [],
            "needs_background": "light"
          }
        }
      ]
    }
  ]
}